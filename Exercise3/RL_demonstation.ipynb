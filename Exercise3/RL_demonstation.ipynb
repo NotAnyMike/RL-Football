{
 "cells": [
  {
   "cell_type": "code",
   "execution_count": 1,
   "metadata": {},
   "outputs": [],
   "source": [
    "import torch.nn as nn\n",
    "import torch.nn.functional as F\n",
    "import gym\n",
    "from torch.optim import Adam\n",
    "import random\n",
    "import torch\n",
    "import numpy as np\n",
    "import matplotlib.pyplot as plt"
   ]
  },
  {
   "cell_type": "code",
   "execution_count": 2,
   "metadata": {},
   "outputs": [],
   "source": [
    "class MLP(nn.Module):\n",
    "    def __init__(self, input_dim, output_dim, hidden_dim):\n",
    "        super(MLP, self).__init__()\n",
    "        # define 4 linear layers\n",
    "        # 1 for the input\n",
    "        # 1 hiddem\n",
    "        # 1 for the policy output\n",
    "        # 1 for the state value ouput\n",
    "        self.fc1 = nn.Linear(input_dim, hidden_dim)\n",
    "        self.fc2 = nn.Linear(hidden_dim, hidden_dim)\n",
    "        self.pol_layer = nn.Linear(hidden_dim, output_dim)\n",
    "        self.val_layer = nn.Linear(hidden_dim, 1)\n",
    "    \n",
    "    def forward(self, x):\n",
    "        # create the forward computation of the network\n",
    "        # this function should return both the policy and the state value\n",
    "        h = F.relu(self.fc1(x))\n",
    "        h = F.relu(self.fc2(h))\n",
    "        policy = F.softmax(self.pol_layer(h), dim=-1)\n",
    "        value = self.val_layer(h)\n",
    "        return policy, value\n",
    "        "
   ]
  },
  {
   "cell_type": "code",
   "execution_count": 6,
   "metadata": {},
   "outputs": [],
   "source": [
    "def hard_update(target, source):\n",
    "    for target_param, param in zip(target.parameters(), source.parameters()):\n",
    "        target_param.data.copy_(param.data)\n",
    "        "
   ]
  },
  {
   "cell_type": "code",
   "execution_count": 7,
   "metadata": {},
   "outputs": [],
   "source": [
    "# do not change the seeds or the parameters\n",
    "# the code is fragile due to lack of many methods\n",
    "# experience replay, n-step returns, batch computations\n",
    "seed = 1\n",
    "torch.manual_seed(seed)\n",
    "np.random.seed(seed)\n",
    "num_actions = 2\n",
    "num_obs = 4\n",
    "hiddem_dim = 64\n",
    "network = MLP(num_obs, num_actions, hiddem_dim)\n",
    "target_network = MLP(num_obs, num_actions, hiddem_dim)\n",
    "hard_update(target_network, network)\n",
    "optimizer = Adam(network.parameters(), lr=0.0005)"
   ]
  },
  {
   "cell_type": "code",
   "execution_count": 8,
   "metadata": {},
   "outputs": [],
   "source": [
    "env = gym.make('CartPole-v1')\n",
    "env.seed(seed)\n",
    "act_num = 2"
   ]
  },
  {
   "cell_type": "code",
   "execution_count": 9,
   "metadata": {},
   "outputs": [
    {
     "name": "stdout",
     "output_type": "stream",
     "text": [
      "Episode: 1 Reward: 13.0\n",
      "Episode: 51 Reward: 27.0\n",
      "Episode: 101 Reward: 30.0\n",
      "Episode: 151 Reward: 17.0\n",
      "Episode: 201 Reward: 57.0\n",
      "Episode: 251 Reward: 22.0\n",
      "Episode: 301 Reward: 36.0\n",
      "Episode: 351 Reward: 222.0\n"
     ]
    }
   ],
   "source": [
    "t = 0\n",
    "rewards = []\n",
    "average_rewards = []\n",
    "for ep_i in range(351):\n",
    "    done = False\n",
    "    obs = env.reset()\n",
    "    # transform the numpy array to torch tensor\n",
    "    obs = torch.Tensor(obs)\n",
    "\n",
    "    total_reward = 0\n",
    "    while not done:\n",
    "        # compute the policy for the current observation\n",
    "        policy, _ = network(obs)\n",
    "        \n",
    "        # sample from the categorical distribution that was created\n",
    "        a = np.random.choice([0,1], p=policy.detach().numpy())\n",
    "        \n",
    "        # for rendering remove the code below\n",
    "        # env.render()\n",
    "        \n",
    "        # make a step forward in the environemnt\n",
    "        next_obs, reward, done, _ = env.step(a)\n",
    "    \n",
    "        # transform the numpy array to torch tensor\n",
    "        next_obs = torch.Tensor(next_obs)\n",
    "        total_reward += reward\n",
    "            \n",
    "        t += 1\n",
    "        ########################################\n",
    "        #        BEGINNING OF TRAINING         #\n",
    "        ########################################\n",
    "        # initialized the optimzer\n",
    "        optimizer.zero_grad()\n",
    "        \n",
    "        # compute the target value r + \\gamma * V(s')\n",
    "        if not done:\n",
    "            target_value = torch.Tensor([reward]) + 0.99 * target_network(next_obs)[1]\n",
    "        else:\n",
    "            target_value = torch.Tensor([reward])\n",
    "        \n",
    "        # compute the value of this observation\n",
    "        value = network(obs)[1]\n",
    "        \n",
    "        # compute the advantage for the policy gradient\n",
    "        advantage = target_value - value\n",
    "        \n",
    "        # compute the td error\n",
    "        td_loss = 0.5 * (value - target_value.detach())**2\n",
    "        \n",
    "        # compute the policy gradient error L = - advantage * log(policy)\n",
    "        # make sure that you compute the policy gradient only for the action that was executed before\n",
    "        pg_loss = -advantage.detach() * torch.log(policy[a])\n",
    "        \n",
    "        # compute the entory for the current policy\n",
    "        # entropy = - sum(policy*log(policy))\n",
    "        entropy = -torch.sum(policy * torch.log(policy))\n",
    "        \n",
    "        # add the two errors and substract the entropy\n",
    "        loss = td_loss + pg_loss - 0.1 * entropy\n",
    "        \n",
    "        # compute the gradients using backprop\n",
    "        loss.backward()\n",
    "        \n",
    "        # make an optimization step\n",
    "        optimizer.step()\n",
    "        ########################################\n",
    "        #        END OF TRAINING               #\n",
    "        ########################################\n",
    "        \n",
    "        #update the current observation from the next observation\n",
    "        obs = next_obs\n",
    "        \n",
    "        # update the parameters of the target network using the \n",
    "        # function hard update\n",
    "        if t % 1000 == 0:\n",
    "            hard_update(target_network, network)\n",
    "        \n",
    "        if done:\n",
    "            if ep_i % 50 ==0:\n",
    "                print('Episode:', ep_i + 1, 'Reward:', total_reward)\n",
    "            rewards.append(total_reward)\n",
    "            if ep_i % 10 ==0:\n",
    "                average_rewards.append(sum(rewards) / 10.0)\n",
    "                rewards = []\n",
    "            break\n",
    "            \n",
    "        "
   ]
  },
  {
   "cell_type": "code",
   "execution_count": 10,
   "metadata": {},
   "outputs": [
    {
     "data": {
      "image/png": "[encoded data removed]",
      "text/plain": [
       "<Figure size 432x288 with 1 Axes>"
      ]
     },
     "metadata": {
      "needs_background": "light"
     },
     "output_type": "display_data"
    }
   ],
   "source": [
    "episodes = np.arange(36) * 10\n",
    "plt.plot(episodes, average_rewards)\n",
    "plt.ylabel('Average rewards per 10 episodes')\n",
    "plt.ylabel('Episodes')\n",
    "plt.show()"
   ]
  },
  {
   "cell_type": "code",
   "execution_count": null,
   "metadata": {},
   "outputs": [],
   "source": []
  }
 ],
 "metadata": {
  "kernelspec": {
   "display_name": "Python 3",
   "language": "python",
   "name": "python3"
  },
  "language_info": {
   "codemirror_mode": {
    "name": "ipython",
    "version": 3
   },
   "file_extension": ".py",
   "mimetype": "text/x-python",
   "name": "python",
   "nbconvert_exporter": "python",
   "pygments_lexer": "ipython3",
   "version": "3.5.6"
  }
 },
 "nbformat": 4,
 "nbformat_minor": 2
}
